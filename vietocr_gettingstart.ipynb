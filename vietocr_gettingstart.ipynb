{
 "cells": [
  {
   "cell_type": "markdown",
   "metadata": {
    "colab_type": "text",
    "id": "view-in-github"
   },
   "source": [
    "<a href=\"https://colab.research.google.com/github/pbcquoc/vietocr/blob/master/vietocr_gettingstart.ipynb\" target=\"_parent\"><img src=\"https://colab.research.google.com/assets/colab-badge.svg\" alt=\"Open In Colab\"/></a>"
   ]
  },
  {
   "cell_type": "markdown",
   "metadata": {
    "id": "uPgu4i1yvhub"
   },
   "source": [
    "\n",
    "# Introduction\n",
    "<p align=\"center\">\n",
    "<img src=\"https://raw.githubusercontent.com/pbcquoc/vietocr/master/image/vietocr.jpg\" width=\"512\" height=\"512\">\n",
    "</p>\n",
    "This notebook describe how you can use VietOcr to train OCR model\n",
    "\n",
    "\n"
   ]
  },
  {
   "cell_type": "code",
   "execution_count": 7,
   "metadata": {
    "colab": {
     "base_uri": "https://localhost:8080/",
     "height": 174
    },
    "id": "xEBHav_aljVN",
    "outputId": "fd649dbd-1c84-4b8f-d4ee-1ace3c643eb5"
   },
   "outputs": [
    {
     "name": "stdout",
     "output_type": "stream",
     "text": [
      "Requirement already satisfied: vietocr==0.3.5 in c:\\programdata\\anaconda3\\envs\\condaocr\\lib\\site-packages (0.3.5)\n",
      "Requirement already satisfied: gdown==3.11.0 in c:\\programdata\\anaconda3\\envs\\condaocr\\lib\\site-packages (from vietocr==0.3.5) (3.11.0)\n",
      "Requirement already satisfied: lmdb==1.0.0 in c:\\programdata\\anaconda3\\envs\\condaocr\\lib\\site-packages (from vietocr==0.3.5) (1.0.0)\n",
      "Requirement already satisfied: einops==0.2.0 in c:\\programdata\\anaconda3\\envs\\condaocr\\lib\\site-packages (from vietocr==0.3.5) (0.2.0)\n",
      "Requirement already satisfied: imgaug==0.4.0 in c:\\programdata\\anaconda3\\envs\\condaocr\\lib\\site-packages (from vietocr==0.3.5) (0.4.0)\n",
      "Requirement already satisfied: prefetch-generator==1.0.1 in c:\\programdata\\anaconda3\\envs\\condaocr\\lib\\site-packages (from vietocr==0.3.5) (1.0.1)\n",
      "Requirement already satisfied: filelock in c:\\programdata\\anaconda3\\envs\\condaocr\\lib\\site-packages (from gdown==3.11.0->vietocr==0.3.5) (3.0.12)\n",
      "Requirement already satisfied: six in c:\\programdata\\anaconda3\\envs\\condaocr\\lib\\site-packages (from gdown==3.11.0->vietocr==0.3.5) (1.15.0)\n",
      "Requirement already satisfied: tqdm in c:\\programdata\\anaconda3\\envs\\condaocr\\lib\\site-packages (from gdown==3.11.0->vietocr==0.3.5) (4.54.1)\n",
      "Requirement already satisfied: requests[socks] in c:\\programdata\\anaconda3\\envs\\condaocr\\lib\\site-packages (from gdown==3.11.0->vietocr==0.3.5) (2.25.1)\n",
      "Requirement already satisfied: scikit-image>=0.14.2 in c:\\programdata\\anaconda3\\envs\\condaocr\\lib\\site-packages (from imgaug==0.4.0->vietocr==0.3.5) (0.18.0)\n",
      "Requirement already satisfied: opencv-python in c:\\programdata\\anaconda3\\envs\\condaocr\\lib\\site-packages (from imgaug==0.4.0->vietocr==0.3.5) (4.4.0.46)\n",
      "Requirement already satisfied: Shapely in c:\\programdata\\anaconda3\\envs\\condaocr\\lib\\site-packages (from imgaug==0.4.0->vietocr==0.3.5) (1.7.1)\n",
      "Requirement already satisfied: matplotlib in c:\\programdata\\anaconda3\\envs\\condaocr\\lib\\site-packages (from imgaug==0.4.0->vietocr==0.3.5) (3.3.3)\n",
      "Requirement already satisfied: Pillow in c:\\programdata\\anaconda3\\envs\\condaocr\\lib\\site-packages (from imgaug==0.4.0->vietocr==0.3.5) (8.0.1)\n",
      "Requirement already satisfied: numpy>=1.15 in c:\\programdata\\anaconda3\\envs\\condaocr\\lib\\site-packages (from imgaug==0.4.0->vietocr==0.3.5) (1.19.4)\n",
      "Requirement already satisfied: imageio in c:\\programdata\\anaconda3\\envs\\condaocr\\lib\\site-packages (from imgaug==0.4.0->vietocr==0.3.5) (2.9.0)\n",
      "Requirement already satisfied: scipy in c:\\programdata\\anaconda3\\envs\\condaocr\\lib\\site-packages (from imgaug==0.4.0->vietocr==0.3.5) (1.5.3)\n",
      "Requirement already satisfied: networkx>=2.0 in c:\\programdata\\anaconda3\\envs\\condaocr\\lib\\site-packages (from scikit-image>=0.14.2->imgaug==0.4.0->vietocr==0.3.5) (2.5)\n",
      "Requirement already satisfied: tifffile>=2019.7.26 in c:\\programdata\\anaconda3\\envs\\condaocr\\lib\\site-packages (from scikit-image>=0.14.2->imgaug==0.4.0->vietocr==0.3.5) (2020.12.8)\n",
      "Requirement already satisfied: PyWavelets>=1.1.1 in c:\\programdata\\anaconda3\\envs\\condaocr\\lib\\site-packages (from scikit-image>=0.14.2->imgaug==0.4.0->vietocr==0.3.5) (1.1.1)\n",
      "Requirement already satisfied: pyparsing!=2.0.4,!=2.1.2,!=2.1.6,>=2.0.3 in c:\\programdata\\anaconda3\\envs\\condaocr\\lib\\site-packages (from matplotlib->imgaug==0.4.0->vietocr==0.3.5) (2.4.7)\n",
      "Requirement already satisfied: python-dateutil>=2.1 in c:\\programdata\\anaconda3\\envs\\condaocr\\lib\\site-packages (from matplotlib->imgaug==0.4.0->vietocr==0.3.5) (2.8.1)\n",
      "Requirement already satisfied: kiwisolver>=1.0.1 in c:\\programdata\\anaconda3\\envs\\condaocr\\lib\\site-packages (from matplotlib->imgaug==0.4.0->vietocr==0.3.5) (1.3.1)\n",
      "Requirement already satisfied: cycler>=0.10 in c:\\programdata\\anaconda3\\envs\\condaocr\\lib\\site-packages (from matplotlib->imgaug==0.4.0->vietocr==0.3.5) (0.10.0)\n",
      "Requirement already satisfied: decorator>=4.3.0 in c:\\programdata\\anaconda3\\envs\\condaocr\\lib\\site-packages (from networkx>=2.0->scikit-image>=0.14.2->imgaug==0.4.0->vietocr==0.3.5) (4.4.2)\n",
      "Requirement already satisfied: chardet<5,>=3.0.2 in c:\\programdata\\anaconda3\\envs\\condaocr\\lib\\site-packages (from requests[socks]->gdown==3.11.0->vietocr==0.3.5) (4.0.0)\n",
      "Requirement already satisfied: certifi>=2017.4.17 in c:\\programdata\\anaconda3\\envs\\condaocr\\lib\\site-packages (from requests[socks]->gdown==3.11.0->vietocr==0.3.5) (2020.12.5)\n",
      "Requirement already satisfied: urllib3<1.27,>=1.21.1 in c:\\programdata\\anaconda3\\envs\\condaocr\\lib\\site-packages (from requests[socks]->gdown==3.11.0->vietocr==0.3.5) (1.26.2)\n",
      "Requirement already satisfied: idna<3,>=2.5 in c:\\programdata\\anaconda3\\envs\\condaocr\\lib\\site-packages (from requests[socks]->gdown==3.11.0->vietocr==0.3.5) (2.10)\n",
      "Requirement already satisfied: PySocks!=1.5.7,>=1.5.6 in c:\\programdata\\anaconda3\\envs\\condaocr\\lib\\site-packages (from requests[socks]->gdown==3.11.0->vietocr==0.3.5) (1.7.1)\n"
     ]
    }
   ],
   "source": [
    "! pip install  vietocr==0.3.5"
   ]
  },
  {
   "cell_type": "markdown",
   "metadata": {
    "id": "IS1cz5tKxio7"
   },
   "source": [
    "# Inference"
   ]
  },
  {
   "cell_type": "code",
   "execution_count": 8,
   "metadata": {
    "id": "KsuT5Sa-xio8"
   },
   "outputs": [
    {
     "ename": "OSError",
     "evalue": "[WinError 127] The specified procedure could not be found. Error loading \"C:\\ProgramData\\Anaconda3\\envs\\condaOCR\\lib\\site-packages\\torch\\lib\\caffe2_detectron_ops.dll\" or one of its dependencies.",
     "output_type": "error",
     "traceback": [
      "\u001B[1;31m---------------------------------------------------------------------------\u001B[0m",
      "\u001B[1;31mOSError\u001B[0m                                   Traceback (most recent call last)",
      "\u001B[1;32m<ipython-input-8-2a37ec073efa>\u001B[0m in \u001B[0;36m<module>\u001B[1;34m\u001B[0m\n\u001B[0;32m      2\u001B[0m \u001B[1;32mfrom\u001B[0m \u001B[0mPIL\u001B[0m \u001B[1;32mimport\u001B[0m \u001B[0mImage\u001B[0m\u001B[1;33m\u001B[0m\u001B[1;33m\u001B[0m\u001B[0m\n\u001B[0;32m      3\u001B[0m \u001B[1;33m\u001B[0m\u001B[0m\n\u001B[1;32m----> 4\u001B[1;33m \u001B[1;32mfrom\u001B[0m \u001B[0mvietocr\u001B[0m\u001B[1;33m.\u001B[0m\u001B[0mtool\u001B[0m\u001B[1;33m.\u001B[0m\u001B[0mpredictor\u001B[0m \u001B[1;32mimport\u001B[0m \u001B[0mPredictor\u001B[0m\u001B[1;33m\u001B[0m\u001B[1;33m\u001B[0m\u001B[0m\n\u001B[0m\u001B[0;32m      5\u001B[0m \u001B[1;32mfrom\u001B[0m \u001B[0mvietocr\u001B[0m\u001B[1;33m.\u001B[0m\u001B[0mtool\u001B[0m\u001B[1;33m.\u001B[0m\u001B[0mconfig\u001B[0m \u001B[1;32mimport\u001B[0m \u001B[0mCfg\u001B[0m\u001B[1;33m\u001B[0m\u001B[1;33m\u001B[0m\u001B[0m\n",
      "\u001B[1;32mC:\\ProgramData\\Anaconda3\\envs\\condaOCR\\lib\\site-packages\\vietocr\\tool\\predictor.py\u001B[0m in \u001B[0;36m<module>\u001B[1;34m\u001B[0m\n\u001B[1;32m----> 1\u001B[1;33m \u001B[1;32mfrom\u001B[0m \u001B[0mvietocr\u001B[0m\u001B[1;33m.\u001B[0m\u001B[0mtool\u001B[0m\u001B[1;33m.\u001B[0m\u001B[0mtranslate\u001B[0m \u001B[1;32mimport\u001B[0m \u001B[0mbuild_model\u001B[0m\u001B[1;33m,\u001B[0m \u001B[0mtranslate\u001B[0m\u001B[1;33m,\u001B[0m \u001B[0mtranslate_beam_search\u001B[0m\u001B[1;33m,\u001B[0m \u001B[0mprocess_input\u001B[0m\u001B[1;33m,\u001B[0m \u001B[0mpredict\u001B[0m\u001B[1;33m\u001B[0m\u001B[1;33m\u001B[0m\u001B[0m\n\u001B[0m\u001B[0;32m      2\u001B[0m \u001B[1;32mfrom\u001B[0m \u001B[0mvietocr\u001B[0m\u001B[1;33m.\u001B[0m\u001B[0mtool\u001B[0m\u001B[1;33m.\u001B[0m\u001B[0mutils\u001B[0m \u001B[1;32mimport\u001B[0m \u001B[0mdownload_weights\u001B[0m\u001B[1;33m\u001B[0m\u001B[1;33m\u001B[0m\u001B[0m\n\u001B[0;32m      3\u001B[0m \u001B[1;33m\u001B[0m\u001B[0m\n\u001B[0;32m      4\u001B[0m \u001B[1;32mimport\u001B[0m \u001B[0mtorch\u001B[0m\u001B[1;33m\u001B[0m\u001B[1;33m\u001B[0m\u001B[0m\n\u001B[0;32m      5\u001B[0m \u001B[1;33m\u001B[0m\u001B[0m\n",
      "\u001B[1;32mC:\\ProgramData\\Anaconda3\\envs\\condaOCR\\lib\\site-packages\\vietocr\\tool\\translate.py\u001B[0m in \u001B[0;36m<module>\u001B[1;34m\u001B[0m\n\u001B[1;32m----> 1\u001B[1;33m \u001B[1;32mimport\u001B[0m \u001B[0mtorch\u001B[0m\u001B[1;33m\u001B[0m\u001B[1;33m\u001B[0m\u001B[0m\n\u001B[0m\u001B[0;32m      2\u001B[0m \u001B[1;32mimport\u001B[0m \u001B[0mnumpy\u001B[0m \u001B[1;32mas\u001B[0m \u001B[0mnp\u001B[0m\u001B[1;33m\u001B[0m\u001B[1;33m\u001B[0m\u001B[0m\n\u001B[0;32m      3\u001B[0m \u001B[1;32mimport\u001B[0m \u001B[0mmath\u001B[0m\u001B[1;33m\u001B[0m\u001B[1;33m\u001B[0m\u001B[0m\n\u001B[0;32m      4\u001B[0m \u001B[1;32mfrom\u001B[0m \u001B[0mPIL\u001B[0m \u001B[1;32mimport\u001B[0m \u001B[0mImage\u001B[0m\u001B[1;33m\u001B[0m\u001B[1;33m\u001B[0m\u001B[0m\n\u001B[0;32m      5\u001B[0m \u001B[1;32mfrom\u001B[0m \u001B[0mtorch\u001B[0m\u001B[1;33m.\u001B[0m\u001B[0mnn\u001B[0m\u001B[1;33m.\u001B[0m\u001B[0mfunctional\u001B[0m \u001B[1;32mimport\u001B[0m \u001B[0mlog_softmax\u001B[0m\u001B[1;33m,\u001B[0m \u001B[0msoftmax\u001B[0m\u001B[1;33m\u001B[0m\u001B[1;33m\u001B[0m\u001B[0m\n",
      "\u001B[1;32mC:\\ProgramData\\Anaconda3\\envs\\condaOCR\\lib\\site-packages\\torch\\__init__.py\u001B[0m in \u001B[0;36m<module>\u001B[1;34m\u001B[0m\n\u001B[0;32m    114\u001B[0m                 \u001B[0merr\u001B[0m \u001B[1;33m=\u001B[0m \u001B[0mctypes\u001B[0m\u001B[1;33m.\u001B[0m\u001B[0mWinError\u001B[0m\u001B[1;33m(\u001B[0m\u001B[0mlast_error\u001B[0m\u001B[1;33m)\u001B[0m\u001B[1;33m\u001B[0m\u001B[1;33m\u001B[0m\u001B[0m\n\u001B[0;32m    115\u001B[0m                 \u001B[0merr\u001B[0m\u001B[1;33m.\u001B[0m\u001B[0mstrerror\u001B[0m \u001B[1;33m+=\u001B[0m \u001B[1;34m' Error loading \"{}\" or one of its dependencies.'\u001B[0m\u001B[1;33m.\u001B[0m\u001B[0mformat\u001B[0m\u001B[1;33m(\u001B[0m\u001B[0mdll\u001B[0m\u001B[1;33m)\u001B[0m\u001B[1;33m\u001B[0m\u001B[1;33m\u001B[0m\u001B[0m\n\u001B[1;32m--> 116\u001B[1;33m                 \u001B[1;32mraise\u001B[0m \u001B[0merr\u001B[0m\u001B[1;33m\u001B[0m\u001B[1;33m\u001B[0m\u001B[0m\n\u001B[0m\u001B[0;32m    117\u001B[0m             \u001B[1;32melif\u001B[0m \u001B[0mres\u001B[0m \u001B[1;32mis\u001B[0m \u001B[1;32mnot\u001B[0m \u001B[1;32mNone\u001B[0m\u001B[1;33m:\u001B[0m\u001B[1;33m\u001B[0m\u001B[1;33m\u001B[0m\u001B[0m\n\u001B[0;32m    118\u001B[0m                 \u001B[0mis_loaded\u001B[0m \u001B[1;33m=\u001B[0m \u001B[1;32mTrue\u001B[0m\u001B[1;33m\u001B[0m\u001B[1;33m\u001B[0m\u001B[0m\n",
      "\u001B[1;31mOSError\u001B[0m: [WinError 127] The specified procedure could not be found. Error loading \"C:\\ProgramData\\Anaconda3\\envs\\condaOCR\\lib\\site-packages\\torch\\lib\\caffe2_detectron_ops.dll\" or one of its dependencies."
     ]
    }
   ],
   "source": [
    "import matplotlib.pyplot as plt\n",
    "from PIL import Image\n",
    "\n",
    "from vietocr.tool.predictor import Predictor\n",
    "from vietocr.tool.config import Cfg"
   ]
  },
  {
   "cell_type": "code",
   "execution_count": null,
   "metadata": {
    "id": "J7u5QgLWxipC"
   },
   "outputs": [],
   "source": [
    "config = Cfg.load_config_from_name('vgg_transformer')"
   ]
  },
  {
   "cell_type": "markdown",
   "metadata": {
    "id": "S5JIpythxipL"
   },
   "source": [
    "Change weights to your weights or using default weights from our pretrained model. Path can be url or local file"
   ]
  },
  {
   "cell_type": "code",
   "execution_count": null,
   "metadata": {
    "id": "UjiubW0gxipL"
   },
   "outputs": [],
   "source": [
    "# config['weights'] = './weights/transformerocr.pth'\n",
    "config['weights'] = 'https://drive.google.com/uc?id=13327Y1tz1ohsm5YZMyXVMPIOjoOA0OaA'\n",
    "config['cnn']['pretrained']=False\n",
    "config['device'] = 'cuda:0'\n",
    "config['predictor']['beamsearch']=False"
   ]
  },
  {
   "cell_type": "code",
   "execution_count": null,
   "metadata": {
    "colab": {
     "base_uri": "https://localhost:8080/",
     "height": 104
    },
    "id": "HjHpH99TxipQ",
    "outputId": "d2b11046-bb74-451b-d0f5-dd02c9e9ac2e"
   },
   "outputs": [],
   "source": [
    "detector = Predictor(config)"
   ]
  },
  {
   "cell_type": "code",
   "execution_count": null,
   "metadata": {
    "colab": {
     "base_uri": "https://localhost:8080/",
     "height": 86
    },
    "id": "BHtnhkpsxipZ",
    "outputId": "0962e953-f72d-4b4d-a8c1-0ca1f8818658"
   },
   "outputs": [],
   "source": [
    "! gdown --id 1uMVd6EBjY4Q0G2IkU5iMOQ34X0bysm0b\n",
    "! unzip  -qq -o sample.zip"
   ]
  },
  {
   "cell_type": "code",
   "execution_count": null,
   "metadata": {
    "colab": {
     "base_uri": "https://localhost:8080/",
     "height": 104
    },
    "id": "nGpmXki1xipe",
    "outputId": "0d5d6b57-9549-4500-a333-08aa00c248c7"
   },
   "outputs": [],
   "source": [
    "! ls sample | shuf |head -n 5"
   ]
  },
  {
   "cell_type": "code",
   "execution_count": null,
   "metadata": {
    "colab": {
     "base_uri": "https://localhost:8080/",
     "height": 133
    },
    "id": "B95BBXNExipj",
    "outputId": "19a6ad7f-7afa-4fac-93ca-5e0f5a5b2609"
   },
   "outputs": [],
   "source": [
    "img = './sample/031189003299.jpeg'\n",
    "img = Image.open(img)\n",
    "plt.imshow(img)\n",
    "s = detector.predict(img)\n",
    "s"
   ]
  },
  {
   "cell_type": "markdown",
   "metadata": {
    "id": "O9zjgHwN2vuC"
   },
   "source": [
    "# Download sample dataset"
   ]
  },
  {
   "cell_type": "code",
   "execution_count": null,
   "metadata": {
    "colab": {
     "base_uri": "https://localhost:8080/",
     "height": 86
    },
    "id": "kMMAabbInNe3",
    "outputId": "28af555b-c032-48f1-e669-5d48179eab06"
   },
   "outputs": [],
   "source": [
    "! gdown https://drive.google.com/uc?id=19QU4VnKtgm3gf0Uw_N2QKSquW1SQ5JiE"
   ]
  },
  {
   "cell_type": "code",
   "execution_count": null,
   "metadata": {
    "id": "ZEBWugoTnvy0"
   },
   "outputs": [],
   "source": [
    "! unzip -qq -o ./data_line.zip"
   ]
  },
  {
   "cell_type": "markdown",
   "metadata": {
    "id": "F1lxSkEj20y0"
   },
   "source": [
    "# Train model"
   ]
  },
  {
   "cell_type": "markdown",
   "metadata": {
    "id": "-MWgUSotv1sN"
   },
   "source": [
    "\n",
    "\n",
    "1.   Load your config\n",
    "2.   Train model using your dataset above\n",
    "\n"
   ]
  },
  {
   "cell_type": "markdown",
   "metadata": {
    "id": "BuzRB0rxwC3m"
   },
   "source": [
    "Load the default config, we adopt VGG for image feature extraction"
   ]
  },
  {
   "cell_type": "code",
   "execution_count": null,
   "metadata": {
    "id": "jMwREzEvm_jd"
   },
   "outputs": [],
   "source": [
    "from vietocr.tool.config import Cfg\n",
    "from vietocr.model.trainer import Trainer"
   ]
  },
  {
   "cell_type": "markdown",
   "metadata": {
    "id": "7oKRCu2ewNE4"
   },
   "source": [
    "# Change the config \n",
    "\n",
    "* *data_root*: the folder save your all images\n",
    "* *train_annotation*: path to train annotation\n",
    "* *valid_annotation*: path to valid annotation\n",
    "* *print_every*: show train loss at every n steps\n",
    "* *valid_every*: show validation loss at every n steps\n",
    "* *iters*: number of iteration to train your model\n",
    "* *export*: export weights to folder that you can use for inference\n",
    "* *metrics*: number of sample in validation annotation you use for computing full_sequence_accuracy, for large dataset it will take too long, then you can reuduce this number\n"
   ]
  },
  {
   "cell_type": "code",
   "execution_count": null,
   "metadata": {
    "id": "56VBD-Xy_ztj"
   },
   "outputs": [],
   "source": [
    "config = Cfg.load_config_from_name('vgg_transformer')"
   ]
  },
  {
   "cell_type": "code",
   "execution_count": null,
   "metadata": {
    "id": "ceKcT5eOnJ1G"
   },
   "outputs": [],
   "source": [
    "#config['vocab'] = 'aAàÀảẢãÃáÁạẠăĂằẰẳẲẵẴắẮặẶâÂầẦẩẨẫẪấẤậẬbBcCdDđĐeEèÈẻẺẽẼéÉẹẸêÊềỀểỂễỄếẾệỆfFgGhHiIìÌỉỈĩĨíÍịỊjJkKlLmMnNoOòÒỏỎõÕóÓọỌôÔồỒổỔỗỖốỐộỘơƠờỜởỞỡỠớỚợỢpPqQrRsStTuUùÙủỦũŨúÚụỤưƯừỪửỬữỮứỨựỰvVwWxXyYỳỲỷỶỹỸýÝỵỴzZ0123456789!\"#$%&\\'()*+,-./:;<=>?@[\\\\]^_`{|}~ '\n",
    "\n",
    "dataset_params = {\n",
    "    'name':'hw',\n",
    "    'data_root':'./data_line/',\n",
    "    'train_annotation':'train_line_annotation.txt',\n",
    "    'valid_annotation':'test_line_annotation.txt'\n",
    "}\n",
    "\n",
    "params = {\n",
    "         'print_every':200,\n",
    "         'valid_every':15*200,\n",
    "          'iters':20000,\n",
    "          'checkpoint':'./checkpoint/transformerocr_checkpoint.pth',    \n",
    "          'export':'./weights/transformerocr.pth',\n",
    "          'metrics': 10000\n",
    "         }\n",
    "\n",
    "config['trainer'].update(params)\n",
    "config['dataset'].update(dataset_params)\n",
    "config['device'] = 'cuda:0'"
   ]
  },
  {
   "cell_type": "markdown",
   "metadata": {
    "id": "Ufc86K0axiqN"
   },
   "source": [
    "you can change any of these params in this full list below"
   ]
  },
  {
   "cell_type": "code",
   "execution_count": null,
   "metadata": {
    "colab": {
     "base_uri": "https://localhost:8080/",
     "height": 717
    },
    "id": "AwHpqqQEnHv1",
    "outputId": "319bd545-1b58-42ca-eee5-b9f96fa06e0d"
   },
   "outputs": [],
   "source": [
    "config"
   ]
  },
  {
   "cell_type": "markdown",
   "metadata": {
    "id": "8dxTXpqa3Hd3"
   },
   "source": [
    "You should train model from our pretrained "
   ]
  },
  {
   "cell_type": "code",
   "execution_count": null,
   "metadata": {
    "colab": {
     "base_uri": "https://localhost:8080/",
     "height": 311,
     "referenced_widgets": [
      "27775e2399054a028cdcf4c236956f27",
      "42cfd1bdf85f492f8b35727c0bfb6350",
      "c3600b8bf6f34c53b4f2b26a28762d72",
      "1a62d6ece1d74d8ab362c02cf45c458b",
      "78b350644e804ce08df1121edf1c07f2",
      "1ce4d31ecbe146ab81c7f84d489c7bd1",
      "6860cc659d004773bb5e4514657db4ea",
      "4f37489f7796464a8d1e4d882720a644"
     ]
    },
    "id": "xtOyT8Cpo1gl",
    "outputId": "3f23da8c-2b43-4e9a-abb4-aafe69519952"
   },
   "outputs": [],
   "source": [
    "trainer = Trainer(config, pretrained=True)"
   ]
  },
  {
   "cell_type": "markdown",
   "metadata": {
    "id": "qvG8aEOlBmVg"
   },
   "source": [
    "Save model configuration for inference, load_config_from_file"
   ]
  },
  {
   "cell_type": "code",
   "execution_count": null,
   "metadata": {
    "id": "Potem8SsojYM"
   },
   "outputs": [],
   "source": [
    "trainer.config.save('config.yml')"
   ]
  },
  {
   "cell_type": "markdown",
   "metadata": {
    "id": "gyL8nmmTxiqV"
   },
   "source": [
    "Visualize your dataset to check data augmentation is appropriate"
   ]
  },
  {
   "cell_type": "code",
   "execution_count": null,
   "metadata": {
    "colab": {
     "base_uri": "https://localhost:8080/",
     "height": 1000
    },
    "id": "OET9Vh8XxiqV",
    "outputId": "cbe3ef32-c948-4883-cea4-702b47c362dd"
   },
   "outputs": [],
   "source": [
    "trainer.visualize_dataset()"
   ]
  },
  {
   "cell_type": "markdown",
   "metadata": {
    "id": "6EkP2h64xiqZ"
   },
   "source": [
    "Train now"
   ]
  },
  {
   "cell_type": "code",
   "execution_count": null,
   "metadata": {
    "colab": {
     "base_uri": "https://localhost:8080/",
     "height": 261
    },
    "id": "fpZEz_DPpV6y",
    "outputId": "f7edf35d-d7d9-4b3a-bd79-a5501cf1a527"
   },
   "outputs": [],
   "source": [
    "trainer.train()"
   ]
  },
  {
   "cell_type": "markdown",
   "metadata": {
    "id": "Iig6gpyb3jtz"
   },
   "source": [
    "Visualize prediction from our trained model\n"
   ]
  },
  {
   "cell_type": "code",
   "execution_count": null,
   "metadata": {
    "id": "Zeai5W02qXA9"
   },
   "outputs": [],
   "source": [
    "trainer.visualize_prediction()"
   ]
  },
  {
   "cell_type": "markdown",
   "metadata": {
    "id": "-bAXlHJv3ryW"
   },
   "source": [
    "Compute full seq accuracy for full valid dataset"
   ]
  },
  {
   "cell_type": "code",
   "execution_count": null,
   "metadata": {
    "id": "eM806O42q_aT"
   },
   "outputs": [],
   "source": [
    "trainer.precision()"
   ]
  }
 ],
 "metadata": {
  "accelerator": "GPU",
  "colab": {
   "include_colab_link": true,
   "name": "vietocr_gettingstart.ipynb",
   "provenance": []
  },
  "kernelspec": {
   "name": "pycharm-bdeb13d4",
   "language": "python",
   "display_name": "PyCharm (condaOCR)"
  },
  "language_info": {
   "codemirror_mode": {
    "name": "ipython",
    "version": 3
   },
   "file_extension": ".py",
   "mimetype": "text/x-python",
   "name": "python",
   "nbconvert_exporter": "python",
   "pygments_lexer": "ipython3",
   "version": "3.8.6"
  },
  "widgets": {
   "application/vnd.jupyter.widget-state+json": {
    "1a62d6ece1d74d8ab362c02cf45c458b": {
     "model_module": "@jupyter-widgets/controls",
     "model_name": "HTMLModel",
     "state": {
      "_dom_classes": [],
      "_model_module": "@jupyter-widgets/controls",
      "_model_module_version": "1.5.0",
      "_model_name": "HTMLModel",
      "_view_count": null,
      "_view_module": "@jupyter-widgets/controls",
      "_view_module_version": "1.5.0",
      "_view_name": "HTMLView",
      "description": "",
      "description_tooltip": null,
      "layout": "IPY_MODEL_4f37489f7796464a8d1e4d882720a644",
      "placeholder": "​",
      "style": "IPY_MODEL_6860cc659d004773bb5e4514657db4ea",
      "value": " 548M/548M [00:09&lt;00:00, 62.9MB/s]"
     }
    },
    "1ce4d31ecbe146ab81c7f84d489c7bd1": {
     "model_module": "@jupyter-widgets/base",
     "model_name": "LayoutModel",
     "state": {
      "_model_module": "@jupyter-widgets/base",
      "_model_module_version": "1.2.0",
      "_model_name": "LayoutModel",
      "_view_count": null,
      "_view_module": "@jupyter-widgets/base",
      "_view_module_version": "1.2.0",
      "_view_name": "LayoutView",
      "align_content": null,
      "align_items": null,
      "align_self": null,
      "border": null,
      "bottom": null,
      "display": null,
      "flex": null,
      "flex_flow": null,
      "grid_area": null,
      "grid_auto_columns": null,
      "grid_auto_flow": null,
      "grid_auto_rows": null,
      "grid_column": null,
      "grid_gap": null,
      "grid_row": null,
      "grid_template_areas": null,
      "grid_template_columns": null,
      "grid_template_rows": null,
      "height": null,
      "justify_content": null,
      "justify_items": null,
      "left": null,
      "margin": null,
      "max_height": null,
      "max_width": null,
      "min_height": null,
      "min_width": null,
      "object_fit": null,
      "object_position": null,
      "order": null,
      "overflow": null,
      "overflow_x": null,
      "overflow_y": null,
      "padding": null,
      "right": null,
      "top": null,
      "visibility": null,
      "width": null
     }
    },
    "27775e2399054a028cdcf4c236956f27": {
     "model_module": "@jupyter-widgets/controls",
     "model_name": "HBoxModel",
     "state": {
      "_dom_classes": [],
      "_model_module": "@jupyter-widgets/controls",
      "_model_module_version": "1.5.0",
      "_model_name": "HBoxModel",
      "_view_count": null,
      "_view_module": "@jupyter-widgets/controls",
      "_view_module_version": "1.5.0",
      "_view_name": "HBoxView",
      "box_style": "",
      "children": [
       "IPY_MODEL_c3600b8bf6f34c53b4f2b26a28762d72",
       "IPY_MODEL_1a62d6ece1d74d8ab362c02cf45c458b"
      ],
      "layout": "IPY_MODEL_42cfd1bdf85f492f8b35727c0bfb6350"
     }
    },
    "42cfd1bdf85f492f8b35727c0bfb6350": {
     "model_module": "@jupyter-widgets/base",
     "model_name": "LayoutModel",
     "state": {
      "_model_module": "@jupyter-widgets/base",
      "_model_module_version": "1.2.0",
      "_model_name": "LayoutModel",
      "_view_count": null,
      "_view_module": "@jupyter-widgets/base",
      "_view_module_version": "1.2.0",
      "_view_name": "LayoutView",
      "align_content": null,
      "align_items": null,
      "align_self": null,
      "border": null,
      "bottom": null,
      "display": null,
      "flex": null,
      "flex_flow": null,
      "grid_area": null,
      "grid_auto_columns": null,
      "grid_auto_flow": null,
      "grid_auto_rows": null,
      "grid_column": null,
      "grid_gap": null,
      "grid_row": null,
      "grid_template_areas": null,
      "grid_template_columns": null,
      "grid_template_rows": null,
      "height": null,
      "justify_content": null,
      "justify_items": null,
      "left": null,
      "margin": null,
      "max_height": null,
      "max_width": null,
      "min_height": null,
      "min_width": null,
      "object_fit": null,
      "object_position": null,
      "order": null,
      "overflow": null,
      "overflow_x": null,
      "overflow_y": null,
      "padding": null,
      "right": null,
      "top": null,
      "visibility": null,
      "width": null
     }
    },
    "4f37489f7796464a8d1e4d882720a644": {
     "model_module": "@jupyter-widgets/base",
     "model_name": "LayoutModel",
     "state": {
      "_model_module": "@jupyter-widgets/base",
      "_model_module_version": "1.2.0",
      "_model_name": "LayoutModel",
      "_view_count": null,
      "_view_module": "@jupyter-widgets/base",
      "_view_module_version": "1.2.0",
      "_view_name": "LayoutView",
      "align_content": null,
      "align_items": null,
      "align_self": null,
      "border": null,
      "bottom": null,
      "display": null,
      "flex": null,
      "flex_flow": null,
      "grid_area": null,
      "grid_auto_columns": null,
      "grid_auto_flow": null,
      "grid_auto_rows": null,
      "grid_column": null,
      "grid_gap": null,
      "grid_row": null,
      "grid_template_areas": null,
      "grid_template_columns": null,
      "grid_template_rows": null,
      "height": null,
      "justify_content": null,
      "justify_items": null,
      "left": null,
      "margin": null,
      "max_height": null,
      "max_width": null,
      "min_height": null,
      "min_width": null,
      "object_fit": null,
      "object_position": null,
      "order": null,
      "overflow": null,
      "overflow_x": null,
      "overflow_y": null,
      "padding": null,
      "right": null,
      "top": null,
      "visibility": null,
      "width": null
     }
    },
    "6860cc659d004773bb5e4514657db4ea": {
     "model_module": "@jupyter-widgets/controls",
     "model_name": "DescriptionStyleModel",
     "state": {
      "_model_module": "@jupyter-widgets/controls",
      "_model_module_version": "1.5.0",
      "_model_name": "DescriptionStyleModel",
      "_view_count": null,
      "_view_module": "@jupyter-widgets/base",
      "_view_module_version": "1.2.0",
      "_view_name": "StyleView",
      "description_width": ""
     }
    },
    "78b350644e804ce08df1121edf1c07f2": {
     "model_module": "@jupyter-widgets/controls",
     "model_name": "ProgressStyleModel",
     "state": {
      "_model_module": "@jupyter-widgets/controls",
      "_model_module_version": "1.5.0",
      "_model_name": "ProgressStyleModel",
      "_view_count": null,
      "_view_module": "@jupyter-widgets/base",
      "_view_module_version": "1.2.0",
      "_view_name": "StyleView",
      "bar_color": null,
      "description_width": "initial"
     }
    },
    "c3600b8bf6f34c53b4f2b26a28762d72": {
     "model_module": "@jupyter-widgets/controls",
     "model_name": "FloatProgressModel",
     "state": {
      "_dom_classes": [],
      "_model_module": "@jupyter-widgets/controls",
      "_model_module_version": "1.5.0",
      "_model_name": "FloatProgressModel",
      "_view_count": null,
      "_view_module": "@jupyter-widgets/controls",
      "_view_module_version": "1.5.0",
      "_view_name": "ProgressView",
      "bar_style": "success",
      "description": "100%",
      "description_tooltip": null,
      "layout": "IPY_MODEL_1ce4d31ecbe146ab81c7f84d489c7bd1",
      "max": 574769405,
      "min": 0,
      "orientation": "horizontal",
      "style": "IPY_MODEL_78b350644e804ce08df1121edf1c07f2",
      "value": 574769405
     }
    }
   }
  }
 },
 "nbformat": 4,
 "nbformat_minor": 1
}